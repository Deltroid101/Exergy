{
 "cells": [
  {
   "cell_type": "code",
   "execution_count": 1,
   "metadata": {},
   "outputs": [],
   "source": [
    "import numpy as np\n",
    "import sympy as sp"
   ]
  },
  {
   "cell_type": "code",
   "execution_count": 35,
   "metadata": {},
   "outputs": [],
   "source": [
    "# fixed Params\n",
    "K1 = 45  # thermal conductivity of the pans(steel)\n",
    "\n",
    "d = 0.444 # diameter of pans\n",
    "\n",
    "t = 0.005  # thickness of the pan\n",
    "\n",
    "h = 87 #convicitve coefficient of flue gases \n",
    "\n",
    "cp = 1.4 * (10**3) #specific heat at constant pressure\n",
    "\n",
    "mf = 6.74 #mass flow rate of flue gases"
   ]
  },
  {
   "cell_type": "code",
   "execution_count": 36,
   "metadata": {},
   "outputs": [],
   "source": [
    "L = 4\n",
    "P = round(np.pi * d, 3)"
   ]
  },
  {
   "attachments": {},
   "cell_type": "markdown",
   "metadata": {},
   "source": [
    "For conduction we are taking conduction through pans"
   ]
  },
  {
   "cell_type": "code",
   "execution_count": 37,
   "metadata": {},
   "outputs": [],
   "source": [
    "A = round(np.pi * (d ** 2) / 4, 3)\n",
    "kxx = (A * K1 )/ t"
   ]
  },
  {
   "cell_type": "code",
   "execution_count": 38,
   "metadata": {},
   "outputs": [
    {
     "data": {
      "text/plain": [
       "1395.0"
      ]
     },
     "execution_count": 38,
     "metadata": {},
     "output_type": "execute_result"
    }
   ],
   "source": [
    "kxx"
   ]
  },
  {
   "cell_type": "code",
   "execution_count": 39,
   "metadata": {},
   "outputs": [],
   "source": [
    "from sympy.matrices import Matrix, eye, zeros, ones, diag, GramSchmidt\n",
    "k = kxx * Matrix([[1,-1], [-1,1]])"
   ]
  },
  {
   "cell_type": "code",
   "execution_count": 40,
   "metadata": {},
   "outputs": [
    {
     "data": {
      "text/latex": [
       "$\\displaystyle \\left[\\begin{matrix}1395.0 & -1395.0\\\\-1395.0 & 1395.0\\end{matrix}\\right]$"
      ],
      "text/plain": [
       "Matrix([\n",
       "[ 1395.0, -1395.0],\n",
       "[-1395.0,  1395.0]])"
      ]
     },
     "execution_count": 40,
     "metadata": {},
     "output_type": "execute_result"
    }
   ],
   "source": [
    "k"
   ]
  },
  {
   "attachments": {},
   "cell_type": "markdown",
   "metadata": {},
   "source": [
    "For conviective heat transfer \n",
    "- we are consedering end convection through pan\n",
    "- parametric convection through chimney"
   ]
  },
  {
   "cell_type": "code",
   "execution_count": 41,
   "metadata": {},
   "outputs": [],
   "source": [
    "conv_mat_pan = (h * A )* Matrix([[1,0],[0,0]])"
   ]
  },
  {
   "cell_type": "code",
   "execution_count": 42,
   "metadata": {},
   "outputs": [],
   "source": [
    "conv_mat = (h * P * L)/6 * Matrix([[2,1],[1,2]])"
   ]
  },
  {
   "cell_type": "code",
   "execution_count": 43,
   "metadata": {},
   "outputs": [
    {
     "data": {
      "text/latex": [
       "$\\displaystyle \\left[\\begin{matrix}161.82 & 80.91\\\\80.91 & 161.82\\end{matrix}\\right]$"
      ],
      "text/plain": [
       "Matrix([\n",
       "[161.82,  80.91],\n",
       "[ 80.91, 161.82]])"
      ]
     },
     "execution_count": 43,
     "metadata": {},
     "output_type": "execute_result"
    }
   ],
   "source": [
    "conv_mat"
   ]
  },
  {
   "cell_type": "code",
   "execution_count": 44,
   "metadata": {},
   "outputs": [
    {
     "data": {
      "text/latex": [
       "$\\displaystyle \\left[\\begin{matrix}13.485 & 0\\\\0 & 0\\end{matrix}\\right]$"
      ],
      "text/plain": [
       "Matrix([\n",
       "[13.485, 0],\n",
       "[     0, 0]])"
      ]
     },
     "execution_count": 44,
     "metadata": {},
     "output_type": "execute_result"
    }
   ],
   "source": [
    "conv_mat_pan"
   ]
  },
  {
   "attachments": {},
   "cell_type": "markdown",
   "metadata": {},
   "source": [
    "Calculating conduction and convection matrices for both pan and chimney\n",
    "- k1, k2, k3 are for pan 1, pan 2, pan 3 respectively\n",
    "- k4 is for chimney"
   ]
  },
  {
   "cell_type": "code",
   "execution_count": 45,
   "metadata": {},
   "outputs": [
    {
     "data": {
      "text/latex": [
       "$\\displaystyle \\left[\\begin{matrix}1408.485 & -1395.0\\\\-1395.0 & 1395.0\\end{matrix}\\right]$"
      ],
      "text/plain": [
       "Matrix([\n",
       "[1408.485, -1395.0],\n",
       "[ -1395.0,  1395.0]])"
      ]
     },
     "execution_count": 45,
     "metadata": {},
     "output_type": "execute_result"
    }
   ],
   "source": [
    "k1 = k2 = k3 = (k + conv_mat_pan)\n",
    "k1"
   ]
  },
  {
   "cell_type": "code",
   "execution_count": 46,
   "metadata": {},
   "outputs": [],
   "source": [
    "k4 = k + conv_mat"
   ]
  },
  {
   "cell_type": "code",
   "execution_count": 47,
   "metadata": {},
   "outputs": [
    {
     "data": {
      "text/latex": [
       "$\\displaystyle \\left[\\begin{matrix}1556.82 & -1314.09\\\\-1314.09 & 1556.82\\end{matrix}\\right]$"
      ],
      "text/plain": [
       "Matrix([\n",
       "[ 1556.82, -1314.09],\n",
       "[-1314.09,  1556.82]])"
      ]
     },
     "execution_count": 47,
     "metadata": {},
     "output_type": "execute_result"
    }
   ],
   "source": [
    "k4"
   ]
  },
  {
   "attachments": {},
   "cell_type": "markdown",
   "metadata": {},
   "source": [
    "Now calculating Global heat transfet matrix `K`"
   ]
  },
  {
   "cell_type": "code",
   "execution_count": 48,
   "metadata": {},
   "outputs": [],
   "source": [
    "K = Matrix([\n",
    "    [k1[0,0], k1[0,1],0,0,0],\n",
    "    [k1[1,0], k1[1,1] + k2[0,0],k2[0,1],0,0],\n",
    "    [0,k2[1,0],k2[1,1] + k3[0,0], k3[0,1],0],\n",
    "     [0,0,k3[1,0],k3[1,1]+k4[0,0],k4[0,1]],\n",
    "     [0,0,0,k4[1,0], k4[1,1]]])"
   ]
  },
  {
   "cell_type": "code",
   "execution_count": 49,
   "metadata": {},
   "outputs": [
    {
     "data": {
      "text/latex": [
       "$\\displaystyle \\left[\\begin{matrix}1408.485 & -1395.0 & 0 & 0 & 0\\\\-1395.0 & 2803.485 & -1395.0 & 0 & 0\\\\0 & -1395.0 & 2803.485 & -1395.0 & 0\\\\0 & 0 & -1395.0 & 2951.82 & -1314.09\\\\0 & 0 & 0 & -1314.09 & 1556.82\\end{matrix}\\right]$"
      ],
      "text/plain": [
       "Matrix([\n",
       "[1408.485,  -1395.0,        0,        0,        0],\n",
       "[ -1395.0, 2803.485,  -1395.0,        0,        0],\n",
       "[       0,  -1395.0, 2803.485,  -1395.0,        0],\n",
       "[       0,        0,  -1395.0,  2951.82, -1314.09],\n",
       "[       0,        0,        0, -1314.09,  1556.82]])"
      ]
     },
     "execution_count": 49,
     "metadata": {},
     "output_type": "execute_result"
    }
   ],
   "source": [
    "K"
   ]
  },
  {
   "attachments": {},
   "cell_type": "markdown",
   "metadata": {},
   "source": [
    "Now creating matrices for the nodal temperatures and heat flow rates"
   ]
  },
  {
   "cell_type": "code",
   "execution_count": 50,
   "metadata": {},
   "outputs": [],
   "source": [
    "T2,T3,T4,T5 = sp.symbols(\"T2 T3 T4 T5\")"
   ]
  },
  {
   "cell_type": "code",
   "execution_count": 51,
   "metadata": {},
   "outputs": [
    {
     "data": {
      "text/latex": [
       "$\\displaystyle \\left[\\begin{matrix}1600\\\\T_{2}\\\\T_{3}\\\\T_{4}\\\\573\\end{matrix}\\right]$"
      ],
      "text/plain": [
       "Matrix([\n",
       "[1600],\n",
       "[  T2],\n",
       "[  T3],\n",
       "[  T4],\n",
       "[ 573]])"
      ]
     },
     "execution_count": 51,
     "metadata": {},
     "output_type": "execute_result"
    }
   ],
   "source": [
    "temp = Matrix([[1600],[T2],[T3],[T4], [573]])\n",
    "temp"
   ]
  },
  {
   "cell_type": "code",
   "execution_count": 52,
   "metadata": {},
   "outputs": [],
   "source": [
    "Q1,Q2,Q3,Q4,Q5 = sp.symbols(\"Q1 Q2 Q3 Q4 Q5\")"
   ]
  },
  {
   "cell_type": "code",
   "execution_count": 53,
   "metadata": {},
   "outputs": [
    {
     "data": {
      "text/latex": [
       "$\\displaystyle \\left[\\begin{matrix}Q_{1}\\\\Q_{2}\\\\Q_{3}\\\\Q_{4}\\\\Q_{5}\\end{matrix}\\right]$"
      ],
      "text/plain": [
       "Matrix([\n",
       "[Q1],\n",
       "[Q2],\n",
       "[Q3],\n",
       "[Q4],\n",
       "[Q5]])"
      ]
     },
     "execution_count": 53,
     "metadata": {},
     "output_type": "execute_result"
    }
   ],
   "source": [
    "Q = Matrix([[Q1],[Q2],[Q3],[Q4], [Q5]])\n",
    "Q"
   ]
  },
  {
   "attachments": {},
   "cell_type": "markdown",
   "metadata": {},
   "source": [
    "Calculating global temperature distribution along each node"
   ]
  },
  {
   "cell_type": "code",
   "execution_count": 54,
   "metadata": {},
   "outputs": [
    {
     "data": {
      "text/latex": [
       "$\\displaystyle \\left[\\begin{matrix}2253576.0 - 1395.0 T_{2}\\\\2803.485 T_{2} - 1395.0 T_{3} - 2232000.0\\\\- 1395.0 T_{2} + 2803.485 T_{3} - 1395.0 T_{4}\\\\- 1395.0 T_{3} + 2951.82 T_{4} - 752973.57\\\\892057.86 - 1314.09 T_{4}\\end{matrix}\\right]$"
      ],
      "text/plain": [
       "Matrix([\n",
       "[               2253576.0 - 1395.0*T2],\n",
       "[ 2803.485*T2 - 1395.0*T3 - 2232000.0],\n",
       "[-1395.0*T2 + 2803.485*T3 - 1395.0*T4],\n",
       "[ -1395.0*T3 + 2951.82*T4 - 752973.57],\n",
       "[              892057.86 - 1314.09*T4]])"
      ]
     },
     "execution_count": 54,
     "metadata": {},
     "output_type": "execute_result"
    }
   ],
   "source": [
    "f = K * temp\n",
    "f"
   ]
  },
  {
   "cell_type": "code",
   "execution_count": 55,
   "metadata": {},
   "outputs": [],
   "source": [
    "q = Q.subs([[Q2,0],[Q3,0],[Q4,0]])"
   ]
  },
  {
   "cell_type": "code",
   "execution_count": 56,
   "metadata": {},
   "outputs": [],
   "source": [
    "eqn = sp.solve((f[2], f[3],f[4]))"
   ]
  },
  {
   "cell_type": "code",
   "execution_count": 57,
   "metadata": {},
   "outputs": [
    {
     "data": {
      "text/plain": [
       "{T2: 1123.14907387261, T3: 896.661057324841, T4: 678.840764331210}"
      ]
     },
     "execution_count": 57,
     "metadata": {},
     "output_type": "execute_result"
    }
   ],
   "source": [
    "eqn"
   ]
  },
  {
   "cell_type": "code",
   "execution_count": 58,
   "metadata": {},
   "outputs": [
    {
     "data": {
      "text/plain": [
       "array([1123.14907387261, 896.661057324841, 678.840764331210], dtype=object)"
      ]
     },
     "execution_count": 58,
     "metadata": {},
     "output_type": "execute_result"
    }
   ],
   "source": [
    "temp = np.array(list(eqn.values()))\n",
    "temp"
   ]
  },
  {
   "attachments": {},
   "cell_type": "markdown",
   "metadata": {},
   "source": [
    "Creating anonymous function to find heatflow rate through different nodes"
   ]
  },
  {
   "cell_type": "code",
   "execution_count": 59,
   "metadata": {},
   "outputs": [],
   "source": [
    "heatFlowRate = lambda temp,cp, mf:  mf * cp * (temp - 300)"
   ]
  },
  {
   "cell_type": "code",
   "execution_count": 64,
   "metadata": {},
   "outputs": [],
   "source": [
    "heatFlow = [heatFlowRate(temp[0],cp,mf), heatFlowRate(temp[1],cp,mf), heatFlowRate(temp[2],cp,mf), heatFlowRate(573, cp,mf)]"
   ]
  },
  {
   "cell_type": "code",
   "execution_count": 65,
   "metadata": {},
   "outputs": [
    {
     "data": {
      "text/plain": [
       "[7767234.66106196, 5630093.73691720, 3574741.45222930, 2576028.0]"
      ]
     },
     "execution_count": 65,
     "metadata": {},
     "output_type": "execute_result"
    }
   ],
   "source": [
    "heatFlow"
   ]
  },
  {
   "cell_type": "code",
   "execution_count": 66,
   "metadata": {},
   "outputs": [],
   "source": [
    "efficiency = lambda heats: sum(heats)/(mf*(19605*(10**3)))"
   ]
  },
  {
   "cell_type": "code",
   "execution_count": 67,
   "metadata": {},
   "outputs": [
    {
     "data": {
      "text/latex": [
       "$\\displaystyle 0.148$"
      ],
      "text/plain": [
       "0.148"
      ]
     },
     "execution_count": 67,
     "metadata": {},
     "output_type": "execute_result"
    }
   ],
   "source": [
    "round(efficiency(heatFlow),3)"
   ]
  },
  {
   "cell_type": "code",
   "execution_count": null,
   "metadata": {},
   "outputs": [],
   "source": []
  }
 ],
 "metadata": {
  "kernelspec": {
   "display_name": ".venv",
   "language": "python",
   "name": "python3"
  },
  "language_info": {
   "codemirror_mode": {
    "name": "ipython",
    "version": 3
   },
   "file_extension": ".py",
   "mimetype": "text/x-python",
   "name": "python",
   "nbconvert_exporter": "python",
   "pygments_lexer": "ipython3",
   "version": "3.11.2"
  },
  "orig_nbformat": 4
 },
 "nbformat": 4,
 "nbformat_minor": 2
}
